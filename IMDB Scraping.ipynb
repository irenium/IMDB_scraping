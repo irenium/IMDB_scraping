{
 "cells": [
  {
   "cell_type": "code",
   "execution_count": 574,
   "metadata": {
    "collapsed": false
   },
   "outputs": [],
   "source": [
    "from BeautifulSoup import BeautifulSoup\n",
    "import bs4\n",
    "import json\n",
    "import requests\n",
    "import argparse\n",
    "import csv\n",
    "import operator\n",
    "import codecs\n",
    "import cStringIO\n",
    "import urllib2\n",
    "import nltk\n",
    "import sys\n",
    "import movie_scrapers"
   ]
  },
  {
   "cell_type": "markdown",
   "metadata": {},
   "source": [
    "# STEP 1: Generate List of Animated Movies Released Since 1980"
   ]
  },
  {
   "cell_type": "code",
   "execution_count": 576,
   "metadata": {
    "collapsed": false
   },
   "outputs": [
    {
     "name": "stdout",
     "output_type": "stream",
     "text": [
      "Accel World: Infinite Burst\n",
      "Ajin -Shōtotsu-\n",
      "Ajin: Shōgeki\n",
      "Albert\n",
      "The Angry Birds Movie\n",
      "Another Day of Life\n",
      "The Ape Story\n",
      "Ballerina\n",
      "Big Fish & Begonia\n",
      "BoBoiBoy: The Movie\n"
     ]
    }
   ],
   "source": [
    "test_wiki_scraper = scrape_movie_lists('https://en.wikipedia.org/wiki/List_of_animated_feature_films_of_2016')\n",
    "print '\\n'.join(test_wiki_scraper[0:10])"
   ]
  },
  {
   "cell_type": "code",
   "execution_count": 577,
   "metadata": {
    "collapsed": true
   },
   "outputs": [],
   "source": [
    "# To start, I will look at all animated films released in 1980 or later:\n",
    "# It's faster to copy paste the link and just change the last digits to reflect the release year:\n",
    "\n",
    "urls = [\"https://en.wikipedia.org/wiki/List_of_animated_feature_films_of_1980\",\n",
    "       \"https://en.wikipedia.org/wiki/List_of_animated_feature_films_of_1981\",\n",
    "       \"https://en.wikipedia.org/wiki/List_of_animated_feature_films_of_1982\",\n",
    "       \"https://en.wikipedia.org/wiki/List_of_animated_feature_films_of_1983\",\n",
    "       \"https://en.wikipedia.org/wiki/List_of_animated_feature_films_of_1984\",\n",
    "       \"https://en.wikipedia.org/wiki/List_of_animated_feature_films_of_1985\",\n",
    "       \"https://en.wikipedia.org/wiki/List_of_animated_feature_films_of_1986\",\n",
    "       \"https://en.wikipedia.org/wiki/List_of_animated_feature_films_of_1987\",\n",
    "       \"https://en.wikipedia.org/wiki/List_of_animated_feature_films_of_1988\",\n",
    "       \"https://en.wikipedia.org/wiki/List_of_animated_feature_films_of_1989\",\n",
    "       \"https://en.wikipedia.org/wiki/List_of_animated_feature_films_of_1990\",\n",
    "       \"https://en.wikipedia.org/wiki/List_of_animated_feature_films_of_1991\",\n",
    "       \"https://en.wikipedia.org/wiki/List_of_animated_feature_films_of_1992\",\n",
    "       \"https://en.wikipedia.org/wiki/List_of_animated_feature_films_of_1993\",\n",
    "       \"https://en.wikipedia.org/wiki/List_of_animated_feature_films_of_1994\",\n",
    "       \"https://en.wikipedia.org/wiki/List_of_animated_feature_films_of_1995\",\n",
    "       \"https://en.wikipedia.org/wiki/List_of_animated_feature_films_of_1996\",\n",
    "       \"https://en.wikipedia.org/wiki/List_of_animated_feature_films_of_1997\",\n",
    "       \"https://en.wikipedia.org/wiki/List_of_animated_feature_films_of_1998\",\n",
    "       \"https://en.wikipedia.org/wiki/List_of_animated_feature_films_of_1999\",\n",
    "       \"https://en.wikipedia.org/wiki/List_of_animated_feature_films_of_2000\",\n",
    "       \"https://en.wikipedia.org/wiki/List_of_animated_feature_films_of_2001\",\n",
    "       \"https://en.wikipedia.org/wiki/List_of_animated_feature_films_of_2002\",\n",
    "       \"https://en.wikipedia.org/wiki/List_of_animated_feature_films_of_2003\",\n",
    "       \"https://en.wikipedia.org/wiki/List_of_animated_feature_films_of_2004\",\n",
    "       \"https://en.wikipedia.org/wiki/List_of_animated_feature_films_of_2005\",\n",
    "       \"https://en.wikipedia.org/wiki/List_of_animated_feature_films_of_2006\",\n",
    "       \"https://en.wikipedia.org/wiki/List_of_animated_feature_films_of_2007\",\n",
    "       \"https://en.wikipedia.org/wiki/List_of_animated_feature_films_of_2008\",\n",
    "       \"https://en.wikipedia.org/wiki/List_of_animated_feature_films_of_2009\",\n",
    "       \"https://en.wikipedia.org/wiki/List_of_animated_feature_films_of_2010\",\n",
    "       \"https://en.wikipedia.org/wiki/List_of_animated_feature_films_of_2011\",\n",
    "       \"https://en.wikipedia.org/wiki/List_of_animated_feature_films_of_2012\",\n",
    "       \"https://en.wikipedia.org/wiki/List_of_animated_feature_films_of_2013\",\n",
    "       \"https://en.wikipedia.org/wiki/List_of_animated_feature_films_of_2014\",\n",
    "       \"https://en.wikipedia.org/wiki/List_of_animated_feature_films_of_2015\",\n",
    "       \"https://en.wikipedia.org/wiki/List_of_animated_feature_films_of_2016\"]"
   ]
  },
  {
   "cell_type": "code",
   "execution_count": 5,
   "metadata": {
    "collapsed": false
   },
   "outputs": [
    {
     "name": "stdout",
     "output_type": "stream",
     "text": [
      "2633\n"
     ]
    }
   ],
   "source": [
    "# Call the function scrape_movie_lists for each year, starting with 1980:\n",
    "\n",
    "movie_titles_all = []\n",
    "for url in urls:\n",
    "    movie_titles_all.append(scrape_movie_lists(url))\n",
    "movie_titles_all = reduce(operator.concat, movie_titles_all)\n",
    "print len(movie_titles_all)"
   ]
  },
  {
   "cell_type": "code",
   "execution_count": 81,
   "metadata": {
    "collapsed": false
   },
   "outputs": [
    {
     "name": "stdout",
     "output_type": "stream",
     "text": [
      "15 Sonyeon Uju Pyoryugi\n",
      "Animalympics\n",
      "Be Forever Yamato\n",
      "Bloody Lady\n",
      "Bon Voyage, Charlie Brown (and Don't Come Back!!)\n",
      "Cyborg 009: Legend of the Super Galaxy\n",
      "Doksuri 5 Hyeongje\n",
      "Doraemon: The Motion Picture\n",
      "Eleven Hungry Cats\n",
      "Fumoon\n"
     ]
    }
   ],
   "source": [
    "print '\\n'.join(movie_titles_all[0:10])"
   ]
  },
  {
   "cell_type": "code",
   "execution_count": 148,
   "metadata": {
    "collapsed": true
   },
   "outputs": [],
   "source": [
    "# Copied from python documentation:\n",
    "\n",
    "class UnicodeWriter:\n",
    "    \"\"\"\n",
    "    A CSV writer which will write rows to CSV file \"f\",\n",
    "    which is encoded in the given encoding.\n",
    "    \"\"\"\n",
    "\n",
    "    def __init__(self, f, dialect=csv.excel, encoding=\"utf-8\", **kwds):\n",
    "        # Redirect output to a queue\n",
    "        self.queue = cStringIO.StringIO()\n",
    "        self.writer = csv.writer(self.queue, dialect=dialect, **kwds)\n",
    "        self.stream = f\n",
    "        self.encoder = codecs.getincrementalencoder(encoding)()\n",
    "\n",
    "    def writerow(self, row):\n",
    "        self.writer.writerow([s.encode(\"utf-8\") for s in row])\n",
    "        # Fetch UTF-8 output from the queue ...\n",
    "        data = self.queue.getvalue()\n",
    "        data = data.decode(\"utf-8\")\n",
    "        # ... and reencode it into the target encoding\n",
    "        data = self.encoder.encode(data)\n",
    "        # write to the target stream\n",
    "        self.stream.write(data)\n",
    "        # empty queue\n",
    "        self.queue.truncate(0)\n",
    "\n",
    "    def writerows(self, rows):\n",
    "        for row in rows:\n",
    "            self.writerow(row)\n",
    "        "
   ]
  },
  {
   "cell_type": "code",
   "execution_count": 348,
   "metadata": {
    "collapsed": false
   },
   "outputs": [],
   "source": [
    "# Save the list of animated movies in a csv file:\n",
    "\n",
    "with open('movie_list.csv', 'wb') as output:\n",
    "    writer = UnicodeWriter(output, lineterminator='\\n', quoting=csv.QUOTE_NONNUMERIC)\n",
    "    for val in movie_titles_all:\n",
    "        writer.writerow([val])  "
   ]
  },
  {
   "cell_type": "markdown",
   "metadata": {
    "collapsed": true
   },
   "source": [
    "# STEP 2: Scrape IMDB for Full Cast and Crew, Year of Release, and Rating"
   ]
  },
  {
   "cell_type": "markdown",
   "metadata": {},
   "source": [
    " The hyperlink I want looks like: http://www.imdb.com/title/tt2096673/fullcredits?ref_=tt_cl_sm#cast"
   ]
  },
  {
   "cell_type": "code",
   "execution_count": 146,
   "metadata": {
    "collapsed": false
   },
   "outputs": [
    {
     "name": "stdout",
     "output_type": "stream",
     "text": [
      " progress 2630 / 2633 ( 99.89%)2633\n"
     ]
    }
   ],
   "source": [
    "# Call the function get_imdb_links for each movie: \n",
    "\n",
    "imdb_urls = []\n",
    "current_idx = 0\n",
    "m = len(movie_titles_all)\n",
    "for movie in movie_titles_all:\n",
    "    imdb_urls.append(get_imdb_links(movie))\n",
    "    \n",
    "    if (current_idx % 10) == 0:\n",
    "        progress = 100.0 * current_idx / m\n",
    "        sys.stdout.write('\\r progress {} / {} ({:6.2f}%)'.format(current_idx, m, progress))\n",
    "        sys.stdout.flush()\n",
    "    current_idx += 1\n",
    "        \n",
    "print len(imdb_urls)"
   ]
  },
  {
   "cell_type": "code",
   "execution_count": 150,
   "metadata": {
    "collapsed": false
   },
   "outputs": [],
   "source": [
    "# Save the list of imdb movie links in a csv file:\n",
    "\n",
    "with open('imdb_url_list.csv', 'wb') as output:\n",
    "    writer = UnicodeWriter(output, lineterminator='\\n', quoting=csv.QUOTE_NONNUMERIC)\n",
    "    for val in imdb_urls:\n",
    "        if val:\n",
    "            val = val[0:17]\n",
    "            writer.writerow([val])  "
   ]
  },
  {
   "cell_type": "markdown",
   "metadata": {},
   "source": [
    "Note that the length of the CSV file is only 1922 rows. This indicates that ~27% of the movies released and published to wikipedia were not on IMDB. I spot checked a few movies, and most of the missing 27% were foreign animated movies."
   ]
  },
  {
   "cell_type": "code",
   "execution_count": 572,
   "metadata": {
    "collapsed": true
   },
   "outputs": [],
   "source": [
    "class Movie:\n",
    "        \n",
    "    def __init__(self, url_key):\n",
    "        \n",
    "        # Get movie metrics by scraping the main IMDB movie page:\n",
    "        imdb_url = \"http://www.imdb.com\"+url_key\n",
    "    \n",
    "        response = requests.get(imdb_url)\n",
    "        soup = bs4.BeautifulSoup(response.text, \"html.parser\")\n",
    "        title = soup.findAll(\"div\",\"title_block\")[0]\n",
    "        rating = title.find(\"strong\").get_text()\n",
    "        num_ratings = title.find(\"div\",\"imdbRating\").a.get_text()\n",
    "        release_year = title.find(\"div\",\"title_wrapper\").a.get_text()\n",
    "        run_time = title.find(\"time\").get_text()\n",
    "        \n",
    "        # Get full cast and crew by scraping the IMDB movie credits page:\n",
    "        imdb_credits_url = \"http://www.imdb.com\"+url_key+\"fullcredits?ref_=tt_cl_sm#cast\"\n",
    "    \n",
    "        response_credits = requests.get(imdb_credits_url)\n",
    "        credits_soup = bs4.BeautifulSoup(response_credits.text, \"html.parser\")\n",
    "        credits_data = credits_soup.findAll(\"div\",\"header\")[0]\n",
    "        \n",
    "        # Store movie credits in a list of tuples of the form (name,role):\n",
    "        full_credits = []\n",
    "\n",
    "        # Store movie credits in a list of tuples of the form (name, team):\n",
    "        credits_by_teams = []\n",
    "        teamnames = []\n",
    "\n",
    "        find_teamnames = credits_data.findAll(\"h4\",\"dataHeaderWithBorder\")\n",
    "        for teamname in find_teamnames:\n",
    "            teamnames.append(teamname.get_text())\n",
    "        \n",
    "        team_tables = credits_data.findAll(\"table\")\n",
    "        for idx,table in enumerate(team_tables):\n",
    "            crew_byrow = table.findAll(\"tr\")\n",
    "        \n",
    "            for row in crew_byrow:\n",
    "                tds = row.findAll('td')\n",
    "        \n",
    "                for td in tds:\n",
    "                    if td.a:\n",
    "                        name = td.a.get_text()\n",
    "                \n",
    "                if row.findAll(\"td\",\"credit\"):\n",
    "                    role = row.findAll(\"td\",\"credit\",limit=1)[0].get_text()\n",
    "        \n",
    "                    full_credits.append((name,role))\n",
    "                    credits_by_teams.append((name, teamnames[idx]))\n",
    "                  \n",
    "        self.rating = rating\n",
    "        self.num_ratings = num_ratings\n",
    "        self.release_year = release_year\n",
    "        self.run_time = run_time\n",
    "        self.full_credits = full_credits\n",
    "        self.credits_by_teams = credits_by_teams\n",
    "        \n",
    "    def get_team_members(self, teamname):\n",
    "        return [name for name,teamnames in self.credits_by_teams if teamname in teamnames]"
   ]
  },
  {
   "cell_type": "code",
   "execution_count": 578,
   "metadata": {
    "collapsed": false
   },
   "outputs": [
    {
     "name": "stdout",
     "output_type": "stream",
     "text": [
      "[u' John Lasseter\\n', u' Pete Docter\\n', u' Andrew Stanton\\n', u' Joe Ranft\\n', u' Joss Whedon\\n', u' Andrew Stanton\\n', u' Joel Cohen\\n', u' Alec Sokolow\\n']\n"
     ]
    }
   ],
   "source": [
    "random_movie = Movie('/title/tt0114709/')\n",
    "print random_movie.get_team_members(\"Writing Credits\")"
   ]
  },
  {
   "cell_type": "code",
   "execution_count": 558,
   "metadata": {
    "collapsed": true
   },
   "outputs": [],
   "source": [
    "def get_movie_metrics(url_key):\n",
    "    \"\"\"\n",
    "    This function scrapes IMDB and returns various metrics for\n",
    "    movie of interest (including year of release, IMDB rating, \n",
    "    estimated budget, gross, and run time). \n",
    "    \"\"\"\n",
    "    \n",
    "    imdb_url = \"http://www.imdb.com\"+url_key\n",
    "    \n",
    "    response = requests.get(imdb_url)\n",
    "    soup = bs4.BeautifulSoup(response.text, \"html.parser\")\n",
    "    title = soup.findAll(\"div\",\"title_block\")[0]\n",
    "    \n",
    "    rating = title.find(\"strong\").get_text()\n",
    "    num_ratings = title.find(\"div\",\"imdbRating\").a.get_text()\n",
    "    release_year = title.find(\"div\",\"title_wrapper\").a.get_text()\n",
    "    run_time = title.find(\"time\").get_text()\n",
    "    \n",
    "    find_bottom_pg_data = soup.findAll(\"div\",\"article\",\"titleDetails\")\n",
    "    \n",
    "    for data in find_bottom_pg_data:\n",
    "        find_box_office = data.findAll(\"div\")\n",
    "        for entry in find_box_office:\n",
    "            budget = entry.find(\"itemprop\")\n",
    "       \n",
    "    return budget"
   ]
  },
  {
   "cell_type": "code",
   "execution_count": 559,
   "metadata": {
    "collapsed": false
   },
   "outputs": [
    {
     "name": "stdout",
     "output_type": "stream",
     "text": [
      "None\n"
     ]
    }
   ],
   "source": [
    "print get_movie_metrics('/title/tt0114709/')"
   ]
  },
  {
   "cell_type": "code",
   "execution_count": null,
   "metadata": {
    "collapsed": true
   },
   "outputs": [],
   "source": []
  }
 ],
 "metadata": {
  "kernelspec": {
   "display_name": "Python 2",
   "language": "python",
   "name": "python2"
  },
  "language_info": {
   "codemirror_mode": {
    "name": "ipython",
    "version": 2
   },
   "file_extension": ".py",
   "mimetype": "text/x-python",
   "name": "python",
   "nbconvert_exporter": "python",
   "pygments_lexer": "ipython2",
   "version": "2.7.6"
  }
 },
 "nbformat": 4,
 "nbformat_minor": 1
}
