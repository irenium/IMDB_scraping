{
 "cells": [
  {
   "cell_type": "code",
   "execution_count": 1,
   "metadata": {
    "collapsed": false
   },
   "outputs": [],
   "source": [
    "import argparse\n",
    "import csv\n",
    "import operator\n",
    "import codecs\n",
    "import cStringIO\n",
    "import urllib2\n",
    "import nltk\n",
    "import sys\n",
    "import movie_scrapers"
   ]
  },
  {
   "cell_type": "markdown",
   "metadata": {},
   "source": [
    "# STEP 1: Generate List of Animated Movies Released Since 1980"
   ]
  },
  {
   "cell_type": "code",
   "execution_count": 2,
   "metadata": {
    "collapsed": false
   },
   "outputs": [
    {
     "name": "stdout",
     "output_type": "stream",
     "text": [
      "Accel World: Infinite Burst\n",
      "Ajin -Shōtotsu-\n",
      "Ajin: Shōgeki\n",
      "Albert\n",
      "The Angry Birds Movie\n",
      "Another Day of Life\n",
      "The Ape Story\n",
      "Ballerina\n",
      "Big Fish & Begonia\n",
      "BoBoiBoy: The Movie\n"
     ]
    }
   ],
   "source": [
    "test_wiki_scraper = movie_scrapers.scrape_movie_lists('https://en.wikipedia.org/wiki/List_of_animated_feature_films_of_2016')\n",
    "print '\\n'.join(test_wiki_scraper[0:10])"
   ]
  },
  {
   "cell_type": "code",
   "execution_count": 14,
   "metadata": {
    "collapsed": false
   },
   "outputs": [],
   "source": [
    "urls = []\n",
    "BASE_URL = \"https://en.wikipedia.org/wiki/List_of_animated_feature_films_of_\"\n",
    "year = 1980\n",
    "while year < 2017:\n",
    "    urls.append(BASE_URL+\"{}\".format(year))\n",
    "    year += 1"
   ]
  },
  {
   "cell_type": "code",
   "execution_count": 15,
   "metadata": {
    "collapsed": false
   },
   "outputs": [
    {
     "name": "stdout",
     "output_type": "stream",
     "text": [
      "2632\n"
     ]
    }
   ],
   "source": [
    "# Call the function scrape_movie_lists for each year, starting with 1980:\n",
    "\n",
    "movie_titles_all = []\n",
    "for url in urls:\n",
    "    movie_titles_all.append(movie_scrapers.scrape_movie_lists(url))\n",
    "movie_titles_all = reduce(operator.concat, movie_titles_all)\n",
    "print len(movie_titles_all)"
   ]
  },
  {
   "cell_type": "code",
   "execution_count": 16,
   "metadata": {
    "collapsed": false
   },
   "outputs": [
    {
     "name": "stdout",
     "output_type": "stream",
     "text": [
      "15 Sonyeon Uju Pyoryugi\n",
      "Animalympics\n",
      "Be Forever Yamato\n",
      "Bloody Lady\n",
      "Bon Voyage, Charlie Brown (and Don't Come Back!!)\n",
      "Cyborg 009: Legend of the Super Galaxy\n",
      "Doksuri 5 Hyeongje\n",
      "Doraemon: The Motion Picture\n",
      "Eleven Hungry Cats\n",
      "Fumoon\n"
     ]
    }
   ],
   "source": [
    "print '\\n'.join(movie_titles_all[0:10])"
   ]
  },
  {
   "cell_type": "code",
   "execution_count": 17,
   "metadata": {
    "collapsed": true
   },
   "outputs": [],
   "source": [
    "# Copied from python documentation:\n",
    "\n",
    "class UnicodeWriter:\n",
    "    \"\"\"\n",
    "    A CSV writer which will write rows to CSV file \"f\",\n",
    "    which is encoded in the given encoding.\n",
    "    \"\"\"\n",
    "\n",
    "    def __init__(self, f, dialect=csv.excel, encoding=\"utf-8\", **kwds):\n",
    "        # Redirect output to a queue\n",
    "        self.queue = cStringIO.StringIO()\n",
    "        self.writer = csv.writer(self.queue, dialect=dialect, **kwds)\n",
    "        self.stream = f\n",
    "        self.encoder = codecs.getincrementalencoder(encoding)()\n",
    "\n",
    "    def writerow(self, row):\n",
    "        self.writer.writerow([s.encode(\"utf-8\") for s in row])\n",
    "        # Fetch UTF-8 output from the queue ...\n",
    "        data = self.queue.getvalue()\n",
    "        data = data.decode(\"utf-8\")\n",
    "        # ... and reencode it into the target encoding\n",
    "        data = self.encoder.encode(data)\n",
    "        # write to the target stream\n",
    "        self.stream.write(data)\n",
    "        # empty queue\n",
    "        self.queue.truncate(0)\n",
    "\n",
    "    def writerows(self, rows):\n",
    "        for row in rows:\n",
    "            self.writerow(row)\n",
    "        "
   ]
  },
  {
   "cell_type": "code",
   "execution_count": 348,
   "metadata": {
    "collapsed": false
   },
   "outputs": [],
   "source": [
    "# Save the list of animated movies in a csv file:\n",
    "\n",
    "with open('movie_list.csv', 'wb') as output:\n",
    "    writer = UnicodeWriter(output, lineterminator='\\n', quoting=csv.QUOTE_NONNUMERIC)\n",
    "    for val in movie_titles_all:\n",
    "        writer.writerow([val])  "
   ]
  },
  {
   "cell_type": "markdown",
   "metadata": {
    "collapsed": true
   },
   "source": [
    "# STEP 2: Scrape IMDB for Full Cast and Crew, Year of Release, and Rating"
   ]
  },
  {
   "cell_type": "markdown",
   "metadata": {},
   "source": [
    " The hyperlink I want looks like: http://www.imdb.com/title/tt2096673/fullcredits?ref_=tt_cl_sm#cast"
   ]
  },
  {
   "cell_type": "code",
   "execution_count": 146,
   "metadata": {
    "collapsed": false
   },
   "outputs": [
    {
     "name": "stdout",
     "output_type": "stream",
     "text": [
      " progress 2630 / 2633 ( 99.89%)2633\n"
     ]
    }
   ],
   "source": [
    "# Call the function get_imdb_links for each movie: \n",
    "\n",
    "imdb_urls = []\n",
    "current_idx = 0\n",
    "m = len(movie_titles_all)\n",
    "for movie in movie_titles_all:\n",
    "    imdb_urls.append(movie_scrapers.get_imdb_links(movie))\n",
    "    \n",
    "    if (current_idx % 10) == 0:\n",
    "        progress = 100.0 * current_idx / m\n",
    "        sys.stdout.write('\\r progress {} / {} ({:6.2f}%)'.format(current_idx, m, progress))\n",
    "        sys.stdout.flush()\n",
    "    current_idx += 1\n",
    "        \n",
    "print len(imdb_urls)"
   ]
  },
  {
   "cell_type": "code",
   "execution_count": 150,
   "metadata": {
    "collapsed": false
   },
   "outputs": [],
   "source": [
    "# Save the list of imdb movie links in a csv file:\n",
    "\n",
    "with open('imdb_url_list.csv', 'wb') as output:\n",
    "    writer = UnicodeWriter(output, lineterminator='\\n', quoting=csv.QUOTE_NONNUMERIC)\n",
    "    for val in imdb_urls:\n",
    "        if val:\n",
    "            val = val[0:17]\n",
    "            writer.writerow([val])  "
   ]
  },
  {
   "cell_type": "markdown",
   "metadata": {},
   "source": [
    "Note that the length of the CSV file is only 1922 rows. This indicates that ~27% of the movies released and published to wikipedia were not on IMDB. I spot checked a few movies, and most of the missing 27% were foreign animated movies."
   ]
  },
  {
   "cell_type": "code",
   "execution_count": 18,
   "metadata": {
    "collapsed": false
   },
   "outputs": [
    {
     "name": "stdout",
     "output_type": "stream",
     "text": [
      "None\n",
      "[u' Fais Umer\\n']\n"
     ]
    }
   ],
   "source": [
    "# Test the Movie class on a movie with missing data:\n",
    "\n",
    "random_movie = movie_scrapers.Movie('/title/tt4518910/')\n",
    "print random_movie.rating\n",
    "print random_movie.get_team_members(\"Writing Credits\")"
   ]
  },
  {
   "cell_type": "markdown",
   "metadata": {
    "collapsed": true
   },
   "source": [
    "### Note: json file containing data for all 1922 movies was generated outside of jupyter notebook"
   ]
  }
 ],
 "metadata": {
  "kernelspec": {
   "display_name": "Python 2",
   "language": "python",
   "name": "python2"
  },
  "language_info": {
   "codemirror_mode": {
    "name": "ipython",
    "version": 2
   },
   "file_extension": ".py",
   "mimetype": "text/x-python",
   "name": "python",
   "nbconvert_exporter": "python",
   "pygments_lexer": "ipython2",
   "version": "2.7.6"
  }
 },
 "nbformat": 4,
 "nbformat_minor": 1
}
