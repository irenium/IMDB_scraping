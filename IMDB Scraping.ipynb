{
 "cells": [
  {
   "cell_type": "code",
   "execution_count": 347,
   "metadata": {
    "collapsed": false
   },
   "outputs": [],
   "source": [
    "from BeautifulSoup import BeautifulSoup\n",
    "import bs4\n",
    "import json\n",
    "import requests\n",
    "import argparse\n",
    "import csv\n",
    "import operator\n",
    "import codecs\n",
    "import cStringIO"
   ]
  },
  {
   "cell_type": "markdown",
   "metadata": {},
   "source": [
    "# STEP 1: Generate List of Animated Movies Released Since 1980"
   ]
  },
  {
   "cell_type": "code",
   "execution_count": 308,
   "metadata": {
    "collapsed": false
   },
   "outputs": [],
   "source": [
    "def scrape_movie_lists(url):\n",
    "    \"\"\"\n",
    "    This function scrapes a wikipedia url and returns the\n",
    "    movie titles for a given year. The code is specific\n",
    "    to wikipedia's animated movie lists by year.\n",
    "    \"\"\"\n",
    "    \n",
    "    # Get web page\n",
    "    response = requests.get(url)\n",
    "\n",
    "    # Create soup object from page content\n",
    "    soup = bs4.BeautifulSoup(response.text, \"html.parser\")\n",
    "    main_table = soup.findAll('table','wikitable',limit=1)[0]\n",
    "    \n",
    "    # Get table rows\n",
    "    trs = main_table.findAll(\"tr\")\n",
    "\n",
    "    list_of_movies = []\n",
    "    list_of_techniques = [] # Currently not being used\n",
    "    \n",
    "    # Get movie titles\n",
    "    for row in trs:        \n",
    "        cols = row.findAll('td', limit=1)\n",
    "        \n",
    "        for td in cols:\n",
    "            \n",
    "            # Filter by the i tag since the \"small\" tag includes foreign languages\n",
    "            i_tag = td.i\n",
    "            a_tag = i_tag.a\n",
    "            if type(a_tag)==bs4.element.Tag:\n",
    "                list_of_movies.append(a_tag.get_text())  \n",
    "            else: \n",
    "                pass\n",
    "    \n",
    "    return list_of_movies"
   ]
  },
  {
   "cell_type": "code",
   "execution_count": 342,
   "metadata": {
    "collapsed": false
   },
   "outputs": [
    {
     "name": "stdout",
     "output_type": "stream",
     "text": [
      "Accel World: Infinite Burst\n",
      "Ajin -Shōtotsu-\n",
      "Ajin: Shōgeki\n",
      "Albert\n",
      "The Angry Birds Movie\n",
      "Another Day of Life\n",
      "The Ape Story\n",
      "Ballerina\n",
      "Big Fish & Begonia\n",
      "BoBoiBoy: The Movie\n"
     ]
    }
   ],
   "source": [
    "test = scrape_movie_lists('https://en.wikipedia.org/wiki/List_of_animated_feature_films_of_2016')\n",
    "print '\\n'.join(test[0:10])"
   ]
  },
  {
   "cell_type": "code",
   "execution_count": 264,
   "metadata": {
    "collapsed": true
   },
   "outputs": [],
   "source": [
    "# To start, I will look at all animated films released in 1980 or later:\n",
    "# It's faster to copy paste the link and just change the last digits to reflect the release year:\n",
    "\n",
    "urls = [\"https://en.wikipedia.org/wiki/List_of_animated_feature_films_of_1980\",\n",
    "       \"https://en.wikipedia.org/wiki/List_of_animated_feature_films_of_1981\",\n",
    "       \"https://en.wikipedia.org/wiki/List_of_animated_feature_films_of_1982\",\n",
    "       \"https://en.wikipedia.org/wiki/List_of_animated_feature_films_of_1983\",\n",
    "       \"https://en.wikipedia.org/wiki/List_of_animated_feature_films_of_1984\",\n",
    "       \"https://en.wikipedia.org/wiki/List_of_animated_feature_films_of_1985\",\n",
    "       \"https://en.wikipedia.org/wiki/List_of_animated_feature_films_of_1986\",\n",
    "       \"https://en.wikipedia.org/wiki/List_of_animated_feature_films_of_1987\",\n",
    "       \"https://en.wikipedia.org/wiki/List_of_animated_feature_films_of_1988\",\n",
    "       \"https://en.wikipedia.org/wiki/List_of_animated_feature_films_of_1989\",\n",
    "       \"https://en.wikipedia.org/wiki/List_of_animated_feature_films_of_1990\",\n",
    "       \"https://en.wikipedia.org/wiki/List_of_animated_feature_films_of_1991\",\n",
    "       \"https://en.wikipedia.org/wiki/List_of_animated_feature_films_of_1992\",\n",
    "       \"https://en.wikipedia.org/wiki/List_of_animated_feature_films_of_1993\",\n",
    "       \"https://en.wikipedia.org/wiki/List_of_animated_feature_films_of_1994\",\n",
    "       \"https://en.wikipedia.org/wiki/List_of_animated_feature_films_of_1995\",\n",
    "       \"https://en.wikipedia.org/wiki/List_of_animated_feature_films_of_1996\",\n",
    "       \"https://en.wikipedia.org/wiki/List_of_animated_feature_films_of_1997\",\n",
    "       \"https://en.wikipedia.org/wiki/List_of_animated_feature_films_of_1998\",\n",
    "       \"https://en.wikipedia.org/wiki/List_of_animated_feature_films_of_1999\",\n",
    "       \"https://en.wikipedia.org/wiki/List_of_animated_feature_films_of_2000\",\n",
    "       \"https://en.wikipedia.org/wiki/List_of_animated_feature_films_of_2001\",\n",
    "       \"https://en.wikipedia.org/wiki/List_of_animated_feature_films_of_2002\",\n",
    "       \"https://en.wikipedia.org/wiki/List_of_animated_feature_films_of_2003\",\n",
    "       \"https://en.wikipedia.org/wiki/List_of_animated_feature_films_of_2004\",\n",
    "       \"https://en.wikipedia.org/wiki/List_of_animated_feature_films_of_2005\",\n",
    "       \"https://en.wikipedia.org/wiki/List_of_animated_feature_films_of_2006\",\n",
    "       \"https://en.wikipedia.org/wiki/List_of_animated_feature_films_of_2007\",\n",
    "       \"https://en.wikipedia.org/wiki/List_of_animated_feature_films_of_2008\",\n",
    "       \"https://en.wikipedia.org/wiki/List_of_animated_feature_films_of_2009\",\n",
    "       \"https://en.wikipedia.org/wiki/List_of_animated_feature_films_of_2010\",\n",
    "       \"https://en.wikipedia.org/wiki/List_of_animated_feature_films_of_2011\",\n",
    "       \"https://en.wikipedia.org/wiki/List_of_animated_feature_films_of_2012\",\n",
    "       \"https://en.wikipedia.org/wiki/List_of_animated_feature_films_of_2013\",\n",
    "       \"https://en.wikipedia.org/wiki/List_of_animated_feature_films_of_2014\",\n",
    "       \"https://en.wikipedia.org/wiki/List_of_animated_feature_films_of_2015\",\n",
    "       \"https://en.wikipedia.org/wiki/List_of_animated_feature_films_of_2016\"]"
   ]
  },
  {
   "cell_type": "code",
   "execution_count": 309,
   "metadata": {
    "collapsed": false
   },
   "outputs": [
    {
     "name": "stdout",
     "output_type": "stream",
     "text": [
      "2629\n"
     ]
    }
   ],
   "source": [
    "# Call the function scrape_movie_lists for each year, starting with 1980:\n",
    "\n",
    "movie_titles_all = []\n",
    "for url in urls:\n",
    "    movie_titles_all.append(scrape_movie_lists(url))\n",
    "movie_titles_all = reduce(operator.concat, movie_titles_all)\n",
    "print len(movie_titles_all)"
   ]
  },
  {
   "cell_type": "code",
   "execution_count": 343,
   "metadata": {
    "collapsed": false
   },
   "outputs": [
    {
     "name": "stdout",
     "output_type": "stream",
     "text": [
      "15 Sonyeon Uju Pyoryugi\n",
      "Animalympics\n",
      "Be Forever Yamato\n",
      "Bloody Lady\n",
      "Bon Voyage, Charlie Brown (and Don't Come Back!!)\n",
      "Cyborg 009: Legend of the Super Galaxy\n",
      "Doksuri 5 Hyeongje\n",
      "Doraemon: The Motion Picture\n",
      "Eleven Hungry Cats\n",
      "Fumoon\n"
     ]
    }
   ],
   "source": [
    "print '\\n'.join(movie_titles_all[0:10])"
   ]
  },
  {
   "cell_type": "code",
   "execution_count": 345,
   "metadata": {
    "collapsed": true
   },
   "outputs": [],
   "source": [
    "# Copied from python documentation:\n",
    "\n",
    "class UnicodeWriter:\n",
    "    \"\"\"\n",
    "    A CSV writer which will write rows to CSV file \"f\",\n",
    "    which is encoded in the given encoding.\n",
    "    \"\"\"\n",
    "\n",
    "    def __init__(self, f, dialect=csv.excel, encoding=\"utf-8\", **kwds):\n",
    "        # Redirect output to a queue\n",
    "        self.queue = cStringIO.StringIO()\n",
    "        self.writer = csv.writer(self.queue, dialect=dialect, **kwds)\n",
    "        self.stream = f\n",
    "        self.encoder = codecs.getincrementalencoder(encoding)()\n",
    "\n",
    "    def writerow(self, row):\n",
    "        self.writer.writerow([s.encode(\"utf-8\") for s in row])\n",
    "        # Fetch UTF-8 output from the queue ...\n",
    "        data = self.queue.getvalue()\n",
    "        data = data.decode(\"utf-8\")\n",
    "        # ... and reencode it into the target encoding\n",
    "        data = self.encoder.encode(data)\n",
    "        # write to the target stream\n",
    "        self.stream.write(data)\n",
    "        # empty queue\n",
    "        self.queue.truncate(0)\n",
    "\n",
    "    def writerows(self, rows):\n",
    "        for row in rows:\n",
    "            self.writerow(row)\n",
    "        "
   ]
  },
  {
   "cell_type": "code",
   "execution_count": 348,
   "metadata": {
    "collapsed": false
   },
   "outputs": [],
   "source": [
    "# Save the list of animated movies in a csv file:\n",
    "\n",
    "with open('movie_list.csv', 'wb') as output:\n",
    "    writer = UnicodeWriter(output, lineterminator='\\n', quoting=csv.QUOTE_NONNUMERIC)\n",
    "    for val in movie_titles_all:\n",
    "        writer.writerow([val])  "
   ]
  },
  {
   "cell_type": "code",
   "execution_count": null,
   "metadata": {
    "collapsed": true
   },
   "outputs": [],
   "source": []
  }
 ],
 "metadata": {
  "kernelspec": {
   "display_name": "Python 2",
   "language": "python",
   "name": "python2"
  },
  "language_info": {
   "codemirror_mode": {
    "name": "ipython",
    "version": 2
   },
   "file_extension": ".py",
   "mimetype": "text/x-python",
   "name": "python",
   "nbconvert_exporter": "python",
   "pygments_lexer": "ipython2",
   "version": "2.7.6"
  }
 },
 "nbformat": 4,
 "nbformat_minor": 1
}
