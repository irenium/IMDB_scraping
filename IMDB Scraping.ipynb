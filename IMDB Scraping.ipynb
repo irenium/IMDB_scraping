{
 "cells": [
  {
   "cell_type": "code",
   "execution_count": 1,
   "metadata": {
    "collapsed": false
   },
   "outputs": [],
   "source": [
    "import codecs\n",
    "import cStringIO\n",
    "import csv\n",
    "import json\n",
    "import movie_scrapers\n",
    "import operator\n",
    "import sys"
   ]
  },
  {
   "cell_type": "markdown",
   "metadata": {},
   "source": [
    "# STEP 1: Generate List of Animated Movies Released Since 1980"
   ]
  },
  {
   "cell_type": "code",
   "execution_count": 3,
   "metadata": {
    "collapsed": false
   },
   "outputs": [],
   "source": [
    "# Generate list of wiki URLs showing animated movies released each year (1 url per year)\n",
    "urls = []\n",
    "BASE_URL = \"https://en.wikipedia.org/wiki/List_of_animated_feature_films_of_\"\n",
    "year = 1980\n",
    "year_list = []\n",
    "while year < 2017:\n",
    "    urls.append(BASE_URL+\"{}\".format(year))\n",
    "    year_list.append(year)\n",
    "    year += 1"
   ]
  },
  {
   "cell_type": "code",
   "execution_count": 42,
   "metadata": {
    "collapsed": false
   },
   "outputs": [],
   "source": [
    "# Call the function scrape_movie_lists for each year, starting with 1980\n",
    "# Make a dictionary with year as key mapped to list of movies\n",
    "movie_titles_all = {}\n",
    "for idx, url in enumerate(urls):\n",
    "    movie_list = []    \n",
    "    movie_list.append(movie_scrapers.scrape_movie_lists(url))\n",
    "    movie_list = reduce(operator.concat, movie_list)\n",
    "    movie_titles_all[year_list[idx]] = movie_list"
   ]
  },
  {
   "cell_type": "code",
   "execution_count": 21,
   "metadata": {
    "collapsed": true
   },
   "outputs": [],
   "source": [
    "# Copied from python documentation:\n",
    "class UnicodeWriter:\n",
    "    \"\"\"\n",
    "    A CSV writer which will write rows to CSV file \"f\",\n",
    "    which is encoded in the given encoding.\n",
    "    \"\"\"\n",
    "\n",
    "    def __init__(self, f, dialect=csv.excel, encoding=\"utf-8\", **kwds):\n",
    "        # Redirect output to a queue\n",
    "        self.queue = cStringIO.StringIO()\n",
    "        self.writer = csv.writer(self.queue, dialect=dialect, **kwds)\n",
    "        self.stream = f\n",
    "        self.encoder = codecs.getincrementalencoder(encoding)()\n",
    "\n",
    "    def writerow(self, row):\n",
    "        self.writer.writerow([s.encode(\"utf-8\") for s in row])\n",
    "        # Fetch UTF-8 output from the queue ...\n",
    "        data = self.queue.getvalue()\n",
    "        data = data.decode(\"utf-8\")\n",
    "        # ... and reencode it into the target encoding\n",
    "        data = self.encoder.encode(data)\n",
    "        # write to the target stream\n",
    "        self.stream.write(data)\n",
    "        # empty queue\n",
    "        self.queue.truncate(0)\n",
    "\n",
    "    def writerows(self, rows):\n",
    "        for row in rows:\n",
    "            self.writerow(row)"
   ]
  },
  {
   "cell_type": "code",
   "execution_count": 27,
   "metadata": {
    "collapsed": false
   },
   "outputs": [],
   "source": [
    "# Save the list of animated movies in a json file\n",
    "# release year is dict key, mapped to list of movies released that year\n",
    "with open('titles_by_year.json','wb') as outfile:\n",
    "    json.dump(movie_titles_all, outfile, indent = 2, separators = (',', ': '))"
   ]
  },
  {
   "cell_type": "code",
   "execution_count": 11,
   "metadata": {
    "collapsed": false
   },
   "outputs": [],
   "source": [
    "with open('titles_by_year.json','rb') as infile:\n",
    "    movie_dicts = json.load(infile)"
   ]
  },
  {
   "cell_type": "markdown",
   "metadata": {
    "collapsed": true
   },
   "source": [
    "# STEP 2: Scrape IMDB for URL Key"
   ]
  },
  {
   "cell_type": "code",
   "execution_count": 18,
   "metadata": {
    "collapsed": false
   },
   "outputs": [
    {
     "name": "stdout",
     "output_type": "stream",
     "text": [
      " progress 2630 / 2633 ( 99.89%)2632\n"
     ]
    }
   ],
   "source": [
    "# Call the function get_imdb_links for each movie: \n",
    "imdb_urls = []\n",
    "current_idx = 0\n",
    "m = 2633\n",
    "for key in movie_dicts.keys():\n",
    "    list_by_year = movie_dicts[key]\n",
    "    for movie in list_by_year:\n",
    "        imdb_urls.append(movie_scrapers.get_imdb_links(movie, key))\n",
    "    \n",
    "        if (current_idx % 10) == 0:\n",
    "            progress = 100.0 * current_idx / m\n",
    "            sys.stdout.write('\\r progress {} / {} ({:6.2f}%)'.format(current_idx, m, progress))\n",
    "            sys.stdout.flush()\n",
    "        current_idx += 1\n",
    "        \n",
    "print len(imdb_urls)"
   ]
  },
  {
   "cell_type": "code",
   "execution_count": 22,
   "metadata": {
    "collapsed": false
   },
   "outputs": [],
   "source": [
    "# Save the list of imdb movie links in a csv file:\n",
    "with open('imdb_url_list.csv', 'wb') as output:\n",
    "    writer = UnicodeWriter(output, lineterminator='\\n', quoting=csv.QUOTE_NONNUMERIC)\n",
    "    for val in imdb_urls:\n",
    "        if val:\n",
    "            writer.writerow([val])  "
   ]
  },
  {
   "cell_type": "markdown",
   "metadata": {},
   "source": [
    "Note that the length of the CSV file is only 987 rows. I spot checked a few movies, and most of the missing movies are foreign animated movies."
   ]
  }
 ],
 "metadata": {
  "kernelspec": {
   "display_name": "Python 2",
   "language": "python",
   "name": "python2"
  },
  "language_info": {
   "codemirror_mode": {
    "name": "ipython",
    "version": 2
   },
   "file_extension": ".py",
   "mimetype": "text/x-python",
   "name": "python",
   "nbconvert_exporter": "python",
   "pygments_lexer": "ipython2",
   "version": "2.7.6"
  }
 },
 "nbformat": 4,
 "nbformat_minor": 1
}
